{
 "cells": [
  {
   "metadata": {},
   "cell_type": "code",
   "outputs": [],
   "execution_count": null,
   "source": [
    "import pandas as pd\n",
    "\n",
    "disprot=pd.read_csv(\"/home/davide/Scaricati/DisProt release_2024_12 with_ambiguous_evidences.tsv\",sep='\\t')\n",
    "disprot"
   ],
   "id": "219f9af7e4c5d83b"
  },
  {
   "metadata": {},
   "cell_type": "code",
   "outputs": [],
   "execution_count": null,
   "source": [
    "mobidb=pd.read_csv(\"/home/davide/Scaricati/mobidb_search_2025-01-20T15-05-25.tsv\",sep='\\t',header=None)\n",
    "mobidb.columns=['uniprot','feature','pos','percentage','tot','length']\n",
    "mobidb"
   ],
   "id": "499afec11522fb79"
  },
  {
   "metadata": {},
   "cell_type": "code",
   "outputs": [],
   "execution_count": null,
   "source": "df=pd.read_csv(\"moonhuman.csv\")",
   "id": "d568000c824502f6"
  },
  {
   "metadata": {},
   "cell_type": "code",
   "outputs": [],
   "execution_count": null,
   "source": [
    "import pandas as pd\n",
    "\n",
    "# Example DataFrame\n",
    "# mobidb = pd.DataFrame({\n",
    "#     'uniprot': [...],\n",
    "#     'feature': [...],\n",
    "#     'pos': [...],\n",
    "#     'percentage': [...],\n",
    "#     'tot': [...],\n",
    "#     'length': [...]\n",
    "# })\n",
    "\n",
    "# 1. Filter features of interest\n",
    "features_of_interest = [\n",
    "    'prediction-disorder-mobidb_lite',\n",
    "    'prediction-disorder-alphafold',\n",
    "    'curated-disorder-merge'\n",
    "]\n",
    "df_filtered = mobidb[mobidb['feature'].isin(features_of_interest)].copy()\n",
    "\n",
    "# 2 & 3. Pivot so that each feature becomes a column of percentages\n",
    "df_pivoted = (\n",
    "    df_filtered\n",
    "    .pivot_table(\n",
    "        index='uniprot',               # row index\n",
    "        columns='feature',             # column categories\n",
    "        values='percentage',           # what to fill the table with\n",
    "        aggfunc='first'                # if multiple rows per uniprot/feature, pick one (or use 'mean', etc.)\n",
    "    )\n",
    ")\n",
    "\n",
    "# 4. Rename columns\n",
    "df_pivoted = df_pivoted.rename(\n",
    "    columns={\n",
    "        'prediction-disorder-alphafold': 'alphadb_percentage',\n",
    "        'prediction-disorder-mobidb_lite': 'mobidblite_percentage',\n",
    "        'curated-disorder-merge': 'curated_percentage'\n",
    "    }\n",
    ")\n",
    "\n",
    "# (Optional) Reset the index so 'uniprot' is a column again\n",
    "result = df_pivoted.reset_index()\n",
    "\n",
    "# Show the final DataFrame\n",
    "result"
   ],
   "id": "dd1e73992f052b5d"
  },
  {
   "metadata": {},
   "cell_type": "code",
   "outputs": [],
   "execution_count": null,
   "source": [
    "merged=pd.merge(df,disprot,left_on='UniProtKB-AC',right_on='acc_disprot',how='left')\n",
    "df=pd.merge(merged,result,left_on='UniProtKB-AC',right_on='uniprot',how=\"left\")\n",
    "df"
   ],
   "id": "69b31e5a6cd1b96"
  },
  {
   "metadata": {},
   "cell_type": "code",
   "outputs": [],
   "execution_count": null,
   "source": [
    "df = df.drop(columns=['uniprot', 'acc_disprot', 'Ensembl ID'])\n",
    "df.columns\n",
    "# drop uniprot and acc_disprot columns Ensembl ID"
   ],
   "id": "711fd231490c5be8"
  },
  {
   "metadata": {},
   "cell_type": "code",
   "outputs": [],
   "execution_count": null,
   "source": "df = df.rename(columns={'curated_percentage': 'alphadb','curated_percentage': 'alphadb_disorder','mobidblite_percentage': 'mobidblite_disorder'})",
   "id": "3c4934264b4080ca"
  },
  {
   "metadata": {},
   "cell_type": "code",
   "outputs": [],
   "execution_count": null,
   "source": [
    "df=df.drop(columns=['name_disprot',\n",
    "       'organism_disprot', 'ncbi_taxon_id_disprot',\n",
    "       'region_id_disprot', 'start_disprot', 'end_disprot',\n",
    "       'term_namespace_disprot', 'term_disprot', 'term_name_disprot',\n",
    "       'ec_disprot', 'ec_name_disprot', 'reference_disprot',\n",
    "       'region_sequence_disprot', 'confidence_disprot', 'obsolete_disprot','CDD', 'Gene3D',\n",
    "       'HAMAP', 'InterPro', 'NCBIfam', 'PANTHER', 'Pfam', 'PIRSF', 'PRINTS',\n",
    "       'PROSITE', 'SFLD', 'SMART', 'SUPFAM'])"
   ],
   "id": "811f4a55d4c5300d"
  },
  {
   "metadata": {},
   "cell_type": "code",
   "outputs": [],
   "execution_count": null,
   "source": [
    "df = df.drop_duplicates(subset='UniProtKB-AC', keep='first')\n",
    "df\n",
    "#rename disorder_content_disprot with disprot disorder\n"
   ],
   "id": "9664b233f7402793"
  },
  {
   "metadata": {},
   "cell_type": "code",
   "outputs": [],
   "execution_count": null,
   "source": "df.to_csv('moonhuman.csv',index=False)",
   "id": "794af1e403db7ecf"
  },
  {
   "metadata": {},
   "cell_type": "code",
   "outputs": [],
   "execution_count": null,
   "source": [
    "df=pd.read_csv('moonhuman.csv')\n",
    "df = df.rename(columns={'alphadb_disorder':'curated_disorder','alphadb_percentage':'alphadb_disorder'})\n",
    "df.to_csv('moonhuman.csv',index=False)"
   ],
   "id": "349ed855825608e6"
  },
  {
   "metadata": {},
   "cell_type": "code",
   "outputs": [],
   "execution_count": null,
   "source": "df.columns",
   "id": "cd7997ac23646481"
  },
  {
   "metadata": {},
   "cell_type": "code",
   "outputs": [],
   "execution_count": null,
   "source": "merged",
   "id": "f4df5b9b6e6efa7f"
  },
  {
   "metadata": {},
   "cell_type": "code",
   "outputs": [],
   "execution_count": null,
   "source": "",
   "id": "702a520111bfd0d6"
  }
 ],
 "metadata": {},
 "nbformat": 5,
 "nbformat_minor": 9
}
